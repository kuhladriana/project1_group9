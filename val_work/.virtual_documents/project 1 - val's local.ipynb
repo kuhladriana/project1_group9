# Import Data Science libraries
import pandas as pd
import numpy as np
from scipy.stats import linregress
# Import Data Visualization
import matplotlib.pyplot as plt
import seaborn as sns
import matplotlib as style
# Import requests
import requests
import json
import time
from pprint import pprint



# Study data files
countries_AQI_datapath = "CSV's/AQI and Lat Long of Countries.csv"
continents_datapath = "CSV's/Countries by continents.csv"
#Read in the csv
AQI_df = pd.read_csv(countries_AQI_datapath)
continents_df = pd.read_csv(continents_datapath)


AQI_df.head()


continents_df.head()


AQI_df.info()


# Dropping all rows with null countries
AQI_df.dropna(inplace=True)
AQI_df


AQI_df.info()


# Dropping duplicate cities
duplicates = AQI_df[AQI_df.duplicated(subset=['City','Country'])]
duplicates


AQI_df_clean = AQI_df.drop_duplicates(subset=["City", "Country"], keep="first")
AQI_df_clean


continents_df.head()


continents_df.info()


AQI_df_clean = AQI_df_clean.rename(columns={
    'AQI Value':'Air_Quality_Value',
    'AQI Category':'Air_Quality_Category',
    'CO AQI Value':'CO_AQI_Value',
    'CO AQI Category':'CO_AQI_Category',
    'Ozone AQI Value':'Ozone_AQI_Value',
    'Ozone AQI Category':'Ozone_AQI_Category',
    'NO2 AQI Value':'NO2_AQI_Value',
    'NO2 AQI Category':'NO2_AQI_Category',
    'PM2.5 AQI Value':'PM2.5_AQI_Value',
    'PM2.5 AQI Category':'PM2.5_AQI_Category',
    'lat': 'Latitude',
    'lng': 'Longitude'
})


AQI_df_clean.head()


# Dictionary for standardizing country names
standard_country_names = {
    'United States of America': 'United States',
    'Russian Federation': 'Russia',
    'United Kingdom of Great Britain and Northern Ireland':'United Kingdom',
    'Viet Nam': 'Vietnam',
    'Myanmar':'Burma (Myanmar)',
    'United Republic of Tanzania':'Tanzania',
    'Democratic Republic of the Congo':'Congo',
    'Bolivia(Plurinational State of)':'Bolivia',
    'Venezuela(Bolivarian Republic of)':'Venezuela',
    'Burkina Faso':'Burkina',
    "Côte d'Ivoire" : 'Ivory Coast',
    'Iran (Islamic Republic of)' : 'Iran',
    'Cabo Verde' : 'Cape Verde',
    'Republic of North Macedonia' : 'Macedonia',
    'North Macedonia' : 'Macedonia',
    'Republic of Moldova' : 'Moldova',
    "Lao People's Democratic Republic" : 'Laos',
    'State of Palestine' : 'Palestine',
    'Syrian Arab Republic' : 'Syria',
    'Kingdom of Eswatini' :'Swaziland',
    'Eswatini' :'Swaziland',
    'Republic of Korea':'South Korea',
    'Aruba' : 'Aruba',
    'State of Palestine': 'Palestine',
    'Palestine': 'Palestine'
    # Add more mappings if needed
}
# Apply the mapping to DataFrames to standardize country names
AQI_df_clean['Country'] = AQI_df_clean['Country'].map(standard_country_names).fillna(AQI_df_clean['Country'])


AQI_df_clean.info()


cities_continents_merged = AQI_df_clean.merge(continents_df, on='Country', how='left')
cities_continents_merged.info()


cities_continents_merged


for country in cities_continents_merged['Country'].unique():
    country_data = cities_continents_merged[cities_continents_merged['Country'] == country][['CO_AQI_Value', 'Ozone_AQI_Value', 'NO2_AQI_Value', 'PM2.5_AQI_Value']].sum()
    
    plt.figure(figsize=(8, 8))
    plt.pie(country_data, labels=country_data.index, autopct='%1.1f%%', startangle=90)
    plt.title(f'AQI Distribution for {country}')
    plt.show()


pollutant_totals = cities_continents_merged[['CO_AQI_Value', 'Ozone_AQI_Value', 'NO2_AQI_Value', 'PM2.5_AQI_Value']].sum()
# Step 2: Create a pie chart that shows the percentage distribution of each pollutant across the entire dataset
plt.figure(figsize=(8, 8))  # Optional: Adjust the figure size
plt.pie(pollutant_totals, labels=pollutant_totals.index, autopct='%1.1f%%', startangle=90)
plt.title('Distribution of AQI Values for Different Pollutants Across All Countries')

# Display the pie chart
plt.show()


cities_continents_merged['Total_AQI'] = cities_continents_merged[['CO_AQI_Value', 'Ozone_AQI_Value', 'NO2_AQI_Value', 'PM2.5_AQI_Value']].sum(axis=1)

# Step 2: Group by 'Continent' and sum the 'Total_AQI' values across countries
continent_aqi = cities_continents_merged.groupby('Continent')['Total_AQI'].sum()

# Step 3: Create the pie chart
plt.figure(figsize=(8, 8))  # Optional: Adjust the figure size
plt.pie(continent_aqi, labels=continent_aqi.index, autopct='%1.1f%%', startangle=90)

# Add a title
plt.title('Percentage Distribution of AQI Across Continents')

# Display the pie chart
plt.show()


lowest_aqi = float('inf') 
winner = []  

for index, row in cities_continents_merged.iterrows():
    country = row['Country']  
    air_quality_value = row['Air_Quality_Value'] 

    if air_quality_value < lowest_aqi:
        winner = [country]  # Reset winners list if a new highest AQI is found
        lowest_aqi = air_quality_value
    elif air_quality_value == lowest_aqi:
        winner.append(country)  # Add the country if there's a tie

# Print all countries with the highest AQI
print(f"Countries with the lowest AQI: {', '.join(winner)}, Air Quality Value: {lowest_aqi}")


highest_aqi = 0 
loser = []  

for index, row in cities_continents_merged.iterrows():
    country = row['Country']  
    air_quality_value = row['Air_Quality_Value'] 

    if air_quality_value > highest_aqi:
        loser = [country]  # Reset winners list if a new highest AQI is found
        highest_aqi = air_quality_value
    elif air_quality_value == highest_aqi:
        loser.append(country)  # Add the country if there's a tie

# Print all countries with the highest AQI
print(f"Countries with the highest AQI: {', '.join(loser)}, Air Quality Value: {highest_aqi}")


# Sorting the cities by AQI in descending order (most polluted first)
sorted_cities = cities_continents_merged.sort_values(by='Air_Quality_Value', ascending=True)

# Show the top 10 most polluted cities
top_10_most_polluted = sorted_cities.head(20)

# Show the bottom 10 least polluted cities
top_10_least_polluted = sorted_cities.tail(20)

# Print the leaderboard
print("\nTop 20 Least Polluted Cities:")
for index, row in top_10_most_polluted.iterrows():
    print(f"{row['City']}, {row['Country']} - AQI: {row['Air_Quality_Value']}")

print("\nTop 20 Most Polluted Cities:")
for index, row in top_10_least_polluted.iterrows():
    print(f"{row['City']}, {row['Country']} - AQI: {row['Air_Quality_Value']}")


# Sorting the cities by AQI in ascending order (least polluted first)
sorted_cities = cities_continents_merged.sort_values(by='Air_Quality_Value', ascending=True)

# Show the top 20 most polluted cities (highest AQI)
top_20_most_polluted = sorted_cities.tail(20)

# Show the top 20 least polluted cities (lowest AQI)
top_20_least_polluted = sorted_cities.head(20)

# Optionally, you can concatenate them into a single DataFrame if you'd like to display them together
pollution_leaderboard = pd.concat([top_20_most_polluted, top_20_least_polluted], keys=["Most Polluted", "Least Polluted"])

# Display the leaderboard DataFrame
print(pollution_leaderboard[['City', 'Country', 'Air_Quality_Value']])



